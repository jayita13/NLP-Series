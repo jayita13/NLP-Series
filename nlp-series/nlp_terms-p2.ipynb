{
 "cells": [
  {
   "cell_type": "markdown",
   "metadata": {},
   "source": [
    "# NLP Series - Part 2"
   ]
  },
  {
   "cell_type": "markdown",
   "metadata": {},
   "source": [
    "#### Word Embeddings - In natural language processing (NLP), word embedding is a term used for the representation of words for text analysis, typically in the form of a real-valued vector that encodes the meaning of the word such that the words that are closer in the vector space are expected to be similar in meaning. Word embeddings can be obtained using a set of language modeling and feature learning techniques where words or phrases from the vocabulary are mapped to vectors of real numbers. Conceptually it involves the mathematical embedding from space with many dimensions per word to a continuous vector space with a much lower dimension.\n",
    "\n",
    "##### Software for training and using word embeddings includes Tomas Mikolov's Word2vec, Stanford University's GloVe, GN-GloVe, Flair embeddings, AllenNLP's ELMo, BERT, fastText, Gensim, Indra and Deeplearning4j. Principal Component Analysis (PCA) and T-Distributed Stochastic Neighbour Embedding (t-SNE) are both used to reduce the dimensionality of word vector spaces and visualize word embeddings and clusters."
   ]
  },
  {
   "cell_type": "markdown",
   "metadata": {},
   "source": [
    "#### Word2Vec\n",
    "\n",
    "##### Word2Vec algorithm uses a neural network model to learn word associations from a large corpus of text. Once trained, such a model can detect synonymous words or suggest additional words for a partial sentence. Unlike BoW & Tfidf where semantic information is not stored & uncommon words are also given importance (hence increasing chances of overfitting), in Word2Vec each word is represented as a vector of dimension 32 or more instead of a single number. Here the semantic info & relation between different words is also preserved."
   ]
  },
  {
   "cell_type": "markdown",
   "metadata": {},
   "source": [
    "#### https://jalammar.github.io/illustrated-word2vec/\n",
    "##### When dealing with vectors, a common way to calculate a similarity score is cosine_similarity\n",
    "##### Words get their embeddings by us looking at which other words they tend to appear next to. The mechanics of that is that :\n",
    "\n",
    "##### 1) We get a lot of text data (say, all Wikipedia articles, for example). then\n",
    "##### 2) We have a window (say, of three words) that we slide against all of that text.\n",
    "##### 3) The sliding window generates training samples for our model\n",
    "\n",
    "##### We take the first two words to be features, and the third word to be a label"
   ]
  },
  {
   "cell_type": "code",
   "execution_count": 1,
   "metadata": {},
   "outputs": [
    {
     "name": "stdout",
     "output_type": "stream",
     "text": [
      "Requirement already satisfied: gensim in c:\\users\\jayit\\anaconda3\\lib\\site-packages (4.1.2)\n",
      "Requirement already satisfied: numpy>=1.17.0 in c:\\users\\jayit\\anaconda3\\lib\\site-packages (from gensim) (1.20.3)\n",
      "Requirement already satisfied: smart-open>=1.8.1 in c:\\users\\jayit\\anaconda3\\lib\\site-packages (from gensim) (5.2.1)\n",
      "Requirement already satisfied: Cython==0.29.23 in c:\\users\\jayit\\anaconda3\\lib\\site-packages (from gensim) (0.29.23)\n",
      "Requirement already satisfied: scipy>=0.18.1 in c:\\users\\jayit\\anaconda3\\lib\\site-packages (from gensim) (1.7.1)\n",
      "Note: you may need to restart the kernel to use updated packages.\n"
     ]
    }
   ],
   "source": [
    "%pip install gensim"
   ]
  },
  {
   "cell_type": "code",
   "execution_count": 2,
   "metadata": {},
   "outputs": [],
   "source": [
    "import nltk\n",
    "\n",
    "from gensim.models import Word2Vec\n",
    "from nltk.corpus import stopwords\n",
    "\n",
    "import re"
   ]
  },
  {
   "cell_type": "code",
   "execution_count": 3,
   "metadata": {},
   "outputs": [],
   "source": [
    "paragraph = \"Doctor Strange is a 2016 American superhero film based on the Marvel Comics character of the same name. Produced by Marvel Studios and distributed by Walt Disney Studios Motion Pictures, it is the 14th film in the Marvel Cinematic Universe (MCU). The film was directed by Scott Derrickson from a screenplay he wrote with Jon Spaihts and C. Robert Cargill, and stars Benedict Cumberbatch as neurosurgeon Stephen Strange along with Chiwetel Ejiofor, Rachel McAdams, Benedict Wong, Michael Stuhlbarg, Benjamin Bratt, Scott Adkins, Mads Mikkelsen, and Tilda Swinton. In the film, Strange learns the mystic arts after a career-ending car crash.\""
   ]
  },
  {
   "cell_type": "code",
   "execution_count": 4,
   "metadata": {},
   "outputs": [
    {
     "data": {
      "text/plain": [
       "'doctor strange is a 2016 american superhero film based on the marvel comics character of the same name. produced by marvel studios and distributed by walt disney studios motion pictures, it is the 14th film in the marvel cinematic universe (mcu). the film was directed by scott derrickson from a screenplay he wrote with jon spaihts and c. robert cargill, and stars benedict cumberbatch as neurosurgeon stephen strange along with chiwetel ejiofor, rachel mcadams, benedict wong, michael stuhlbarg, benjamin bratt, scott adkins, mads mikkelsen, and tilda swinton. in the film, strange learns the mystic arts after a career-ending car crash.'"
      ]
     },
     "execution_count": 4,
     "metadata": {},
     "output_type": "execute_result"
    }
   ],
   "source": [
    "text = paragraph.lower()\n",
    "text"
   ]
  },
  {
   "cell_type": "code",
   "execution_count": 5,
   "metadata": {},
   "outputs": [
    {
     "data": {
      "text/plain": [
       "['doctor strange is a 2016 american superhero film based on the marvel comics character of the same name.',\n",
       " 'produced by marvel studios and distributed by walt disney studios motion pictures, it is the 14th film in the marvel cinematic universe (mcu).',\n",
       " 'the film was directed by scott derrickson from a screenplay he wrote with jon spaihts and c. robert cargill, and stars benedict cumberbatch as neurosurgeon stephen strange along with chiwetel ejiofor, rachel mcadams, benedict wong, michael stuhlbarg, benjamin bratt, scott adkins, mads mikkelsen, and tilda swinton.',\n",
       " 'in the film, strange learns the mystic arts after a career-ending car crash.']"
      ]
     },
     "execution_count": 5,
     "metadata": {},
     "output_type": "execute_result"
    }
   ],
   "source": [
    "# Preparing the dataset\n",
    "sentences = nltk.sent_tokenize(text)\n",
    "sentences"
   ]
  },
  {
   "cell_type": "code",
   "execution_count": 6,
   "metadata": {},
   "outputs": [
    {
     "data": {
      "text/plain": [
       "[['doctor',\n",
       "  'strange',\n",
       "  'is',\n",
       "  'a',\n",
       "  '2016',\n",
       "  'american',\n",
       "  'superhero',\n",
       "  'film',\n",
       "  'based',\n",
       "  'on',\n",
       "  'the',\n",
       "  'marvel',\n",
       "  'comics',\n",
       "  'character',\n",
       "  'of',\n",
       "  'the',\n",
       "  'same',\n",
       "  'name',\n",
       "  '.'],\n",
       " ['produced',\n",
       "  'by',\n",
       "  'marvel',\n",
       "  'studios',\n",
       "  'and',\n",
       "  'distributed',\n",
       "  'by',\n",
       "  'walt',\n",
       "  'disney',\n",
       "  'studios',\n",
       "  'motion',\n",
       "  'pictures',\n",
       "  ',',\n",
       "  'it',\n",
       "  'is',\n",
       "  'the',\n",
       "  '14th',\n",
       "  'film',\n",
       "  'in',\n",
       "  'the',\n",
       "  'marvel',\n",
       "  'cinematic',\n",
       "  'universe',\n",
       "  '(',\n",
       "  'mcu',\n",
       "  ')',\n",
       "  '.'],\n",
       " ['the',\n",
       "  'film',\n",
       "  'was',\n",
       "  'directed',\n",
       "  'by',\n",
       "  'scott',\n",
       "  'derrickson',\n",
       "  'from',\n",
       "  'a',\n",
       "  'screenplay',\n",
       "  'he',\n",
       "  'wrote',\n",
       "  'with',\n",
       "  'jon',\n",
       "  'spaihts',\n",
       "  'and',\n",
       "  'c.',\n",
       "  'robert',\n",
       "  'cargill',\n",
       "  ',',\n",
       "  'and',\n",
       "  'stars',\n",
       "  'benedict',\n",
       "  'cumberbatch',\n",
       "  'as',\n",
       "  'neurosurgeon',\n",
       "  'stephen',\n",
       "  'strange',\n",
       "  'along',\n",
       "  'with',\n",
       "  'chiwetel',\n",
       "  'ejiofor',\n",
       "  ',',\n",
       "  'rachel',\n",
       "  'mcadams',\n",
       "  ',',\n",
       "  'benedict',\n",
       "  'wong',\n",
       "  ',',\n",
       "  'michael',\n",
       "  'stuhlbarg',\n",
       "  ',',\n",
       "  'benjamin',\n",
       "  'bratt',\n",
       "  ',',\n",
       "  'scott',\n",
       "  'adkins',\n",
       "  ',',\n",
       "  'mads',\n",
       "  'mikkelsen',\n",
       "  ',',\n",
       "  'and',\n",
       "  'tilda',\n",
       "  'swinton',\n",
       "  '.'],\n",
       " ['in',\n",
       "  'the',\n",
       "  'film',\n",
       "  ',',\n",
       "  'strange',\n",
       "  'learns',\n",
       "  'the',\n",
       "  'mystic',\n",
       "  'arts',\n",
       "  'after',\n",
       "  'a',\n",
       "  'career-ending',\n",
       "  'car',\n",
       "  'crash',\n",
       "  '.']]"
      ]
     },
     "execution_count": 6,
     "metadata": {},
     "output_type": "execute_result"
    }
   ],
   "source": [
    "sentences = [nltk.word_tokenize(sentence) for sentence in sentences]\n",
    "sentences"
   ]
  },
  {
   "cell_type": "code",
   "execution_count": 7,
   "metadata": {},
   "outputs": [
    {
     "data": {
      "text/plain": [
       "[['doctor',\n",
       "  'strange',\n",
       "  '2016',\n",
       "  'american',\n",
       "  'superhero',\n",
       "  'film',\n",
       "  'based',\n",
       "  'marvel',\n",
       "  'comics',\n",
       "  'character',\n",
       "  'name',\n",
       "  '.'],\n",
       " ['produced',\n",
       "  'marvel',\n",
       "  'studios',\n",
       "  'distributed',\n",
       "  'walt',\n",
       "  'disney',\n",
       "  'studios',\n",
       "  'motion',\n",
       "  'pictures',\n",
       "  ',',\n",
       "  '14th',\n",
       "  'film',\n",
       "  'marvel',\n",
       "  'cinematic',\n",
       "  'universe',\n",
       "  '(',\n",
       "  'mcu',\n",
       "  ')',\n",
       "  '.'],\n",
       " ['film',\n",
       "  'directed',\n",
       "  'scott',\n",
       "  'derrickson',\n",
       "  'screenplay',\n",
       "  'wrote',\n",
       "  'jon',\n",
       "  'spaihts',\n",
       "  'c.',\n",
       "  'robert',\n",
       "  'cargill',\n",
       "  ',',\n",
       "  'stars',\n",
       "  'benedict',\n",
       "  'cumberbatch',\n",
       "  'neurosurgeon',\n",
       "  'stephen',\n",
       "  'strange',\n",
       "  'along',\n",
       "  'chiwetel',\n",
       "  'ejiofor',\n",
       "  ',',\n",
       "  'rachel',\n",
       "  'mcadams',\n",
       "  ',',\n",
       "  'benedict',\n",
       "  'wong',\n",
       "  ',',\n",
       "  'michael',\n",
       "  'stuhlbarg',\n",
       "  ',',\n",
       "  'benjamin',\n",
       "  'bratt',\n",
       "  ',',\n",
       "  'scott',\n",
       "  'adkins',\n",
       "  ',',\n",
       "  'mads',\n",
       "  'mikkelsen',\n",
       "  ',',\n",
       "  'tilda',\n",
       "  'swinton',\n",
       "  '.'],\n",
       " ['film',\n",
       "  ',',\n",
       "  'strange',\n",
       "  'learns',\n",
       "  'mystic',\n",
       "  'arts',\n",
       "  'career-ending',\n",
       "  'car',\n",
       "  'crash',\n",
       "  '.']]"
      ]
     },
     "execution_count": 7,
     "metadata": {},
     "output_type": "execute_result"
    }
   ],
   "source": [
    "for i in range(len(sentences)):\n",
    "    sentences[i] = [word for word in sentences[i] if word not in stopwords.words('english')]\n",
    "sentences"
   ]
  },
  {
   "cell_type": "code",
   "execution_count": 8,
   "metadata": {},
   "outputs": [],
   "source": [
    "# Training the Word2Vec model\n",
    "model = Word2Vec(sentences, min_count=1)"
   ]
  },
  {
   "cell_type": "code",
   "execution_count": 9,
   "metadata": {},
   "outputs": [
    {
     "data": {
      "text/plain": [
       "[',',\n",
       " '.',\n",
       " 'film',\n",
       " 'strange',\n",
       " 'marvel',\n",
       " 'scott',\n",
       " 'studios',\n",
       " 'benedict',\n",
       " 'crash',\n",
       " '14th',\n",
       " 'cinematic',\n",
       " '(',\n",
       " 'universe',\n",
       " 'motion',\n",
       " 'mcu',\n",
       " ')',\n",
       " 'directed',\n",
       " 'pictures',\n",
       " 'distributed',\n",
       " 'disney',\n",
       " 'walt',\n",
       " 'screenplay',\n",
       " 'produced',\n",
       " 'name',\n",
       " 'character',\n",
       " 'comics',\n",
       " 'based',\n",
       " 'superhero',\n",
       " 'american',\n",
       " '2016',\n",
       " 'derrickson',\n",
       " 'wrote',\n",
       " 'car',\n",
       " 'jon',\n",
       " 'career-ending',\n",
       " 'arts',\n",
       " 'mystic',\n",
       " 'learns',\n",
       " 'swinton',\n",
       " 'tilda',\n",
       " 'mikkelsen',\n",
       " 'mads',\n",
       " 'adkins',\n",
       " 'bratt',\n",
       " 'benjamin',\n",
       " 'stuhlbarg',\n",
       " 'michael',\n",
       " 'wong',\n",
       " 'mcadams',\n",
       " 'rachel',\n",
       " 'ejiofor',\n",
       " 'chiwetel',\n",
       " 'along',\n",
       " 'stephen',\n",
       " 'neurosurgeon',\n",
       " 'cumberbatch',\n",
       " 'stars',\n",
       " 'cargill',\n",
       " 'robert',\n",
       " 'c.',\n",
       " 'spaihts',\n",
       " 'doctor']"
      ]
     },
     "execution_count": 9,
     "metadata": {},
     "output_type": "execute_result"
    }
   ],
   "source": [
    "vocab = model.wv.index_to_key\n",
    "vocab"
   ]
  },
  {
   "cell_type": "code",
   "execution_count": 10,
   "metadata": {},
   "outputs": [
    {
     "data": {
      "text/plain": [
       "array([-8.2378900e-03,  9.3050422e-03, -1.8904406e-04, -1.9478335e-03,\n",
       "        4.5926250e-03, -4.1094120e-03,  2.7474777e-03,  6.9532893e-03,\n",
       "        6.0589323e-03, -7.5170416e-03,  9.3914494e-03,  4.6602450e-03,\n",
       "        3.9810021e-03, -6.2400880e-03,  8.4662586e-03, -2.1586721e-03,\n",
       "        8.8269133e-03, -5.3755287e-03, -8.1217652e-03,  6.8169250e-03,\n",
       "        1.6841607e-03, -2.2070918e-03,  9.5095355e-03,  9.4906222e-03,\n",
       "       -9.7848363e-03,  2.5084158e-03,  6.1491951e-03,  3.8709536e-03,\n",
       "        2.0149658e-03,  4.2894550e-04,  6.8211055e-04, -3.8191921e-03,\n",
       "       -7.1303686e-03, -2.0918027e-03,  3.9249924e-03,  8.8153053e-03,\n",
       "        9.2613259e-03, -5.9715398e-03, -9.4125913e-03,  9.7590070e-03,\n",
       "        3.4332643e-03,  5.1673115e-03,  6.2914477e-03, -2.7980648e-03,\n",
       "        7.3128161e-03,  2.8209265e-03,  2.8691192e-03, -2.3808109e-03,\n",
       "       -3.1178603e-03, -2.3660229e-03,  4.2701620e-03,  7.3232382e-05,\n",
       "       -9.5860884e-03, -9.6698040e-03, -6.1387368e-03, -1.2979444e-04,\n",
       "        2.0007528e-03,  9.4318362e-03,  5.5762543e-03, -4.2818817e-03,\n",
       "        2.8364625e-04,  4.9690646e-03,  7.7017401e-03, -1.1342607e-03,\n",
       "        4.3176860e-03, -5.8039334e-03, -8.1916124e-04,  8.1076240e-03,\n",
       "       -2.3593346e-03, -9.6802479e-03,  5.7833637e-03, -3.9272928e-03,\n",
       "       -1.2083802e-03,  9.9738445e-03, -2.2387335e-03, -4.7555724e-03,\n",
       "       -5.3227092e-03,  6.9811251e-03, -5.7000336e-03,  2.1106426e-03,\n",
       "       -5.2576186e-03,  6.1235069e-03,  4.3403511e-03,  2.6151824e-03,\n",
       "       -1.5014936e-03, -2.7546857e-03,  8.9974506e-03,  5.2190414e-03,\n",
       "       -2.1423211e-03, -9.4647016e-03, -7.4168872e-03, -1.0566469e-03,\n",
       "       -8.0181047e-04, -2.5538499e-03,  9.6956659e-03, -4.5655842e-04,\n",
       "        5.8545778e-03, -7.4448017e-03, -2.5059469e-03, -5.5619958e-03],\n",
       "      dtype=float32)"
      ]
     },
     "execution_count": 10,
     "metadata": {},
     "output_type": "execute_result"
    }
   ],
   "source": [
    "# Finding Word Vectors\n",
    "vector = model.wv['strange']\n",
    "vector"
   ]
  },
  {
   "cell_type": "code",
   "execution_count": 11,
   "metadata": {},
   "outputs": [
    {
     "data": {
      "text/plain": [
       "[('motion', 0.25324559211730957),\n",
       " ('based', 0.20136503875255585),\n",
       " ('swinton', 0.1956038922071457),\n",
       " ('derrickson', 0.17586500942707062),\n",
       " ('film', 0.17048057913780212),\n",
       " ('universe', 0.15092208981513977),\n",
       " ('doctor', 0.1497604250907898),\n",
       " ('learns', 0.14596502482891083),\n",
       " ('scott', 0.13915996253490448),\n",
       " ('directed', 0.10890490561723709)]"
      ]
     },
     "execution_count": 11,
     "metadata": {},
     "output_type": "execute_result"
    }
   ],
   "source": [
    "# Most similar words\n",
    "similar = model.wv.most_similar(\"marvel\")\n",
    "similar"
   ]
  },
  {
   "cell_type": "markdown",
   "metadata": {},
   "source": []
  },
  {
   "cell_type": "markdown",
   "metadata": {},
   "source": []
  },
  {
   "cell_type": "markdown",
   "metadata": {},
   "source": [
    "#### GloVe coined from Global Vectors, is a model for distributed word representation. The model is an unsupervised learning algorithm for obtaining vector representations for words. This is achieved by mapping words into a meaningful space where the distance between words is related to semantic similarity. Training is performed on aggregated global word-word co-occurrence statistics from a corpus, and the resulting representations showcase interesting linear substructures of the word vector space. It is developed as an open-source project at Stanford and was launched in 2014. As log-bilinear regression model for unsupervised learning of word representations, it combines the features of two model families, namely the global matrix factorization and local context window methods."
   ]
  }
 ],
 "metadata": {
  "interpreter": {
   "hash": "90276f0205a699ef7c2f51314082c690bc6dd4330edd0d82949944e2964d07d3"
  },
  "kernelspec": {
   "display_name": "Python 3.9.7 ('base')",
   "language": "python",
   "name": "python3"
  },
  "language_info": {
   "codemirror_mode": {
    "name": "ipython",
    "version": 3
   },
   "file_extension": ".py",
   "mimetype": "text/x-python",
   "name": "python",
   "nbconvert_exporter": "python",
   "pygments_lexer": "ipython3",
   "version": "3.9.7"
  },
  "orig_nbformat": 4
 },
 "nbformat": 4,
 "nbformat_minor": 2
}
